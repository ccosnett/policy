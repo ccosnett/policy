{
 "cells": [
  {
   "cell_type": "code",
   "execution_count": 1,
   "metadata": {},
   "outputs": [
    {
     "name": "stderr",
     "output_type": "stream",
     "text": [
      "/Users/johncosnett/compass_labs/policy/.venv/lib/python3.12/site-packages/joblib/memory.py:577: JobLibCollisionWarning: Cannot detect name collisions for function '_load_data_for_pools'\n",
      "  return self._cached_call(args, kwargs, shelving=False)[0]\n",
      "/var/folders/y7/zk_s47tx1432tj57pyn2vknh0000gn/T/ipykernel_24763/1582444998.py:71: DeprecationWarning: The default datetime adapter is deprecated as of Python 3.12; see the sqlite3 documentation for suggested replacement recipes\n",
      "  backtest_run(\n",
      "\n",
      "\n",
      "Running simulation::   0%|          | 0/18 [00:00<?, ?it/s]"
     ]
    },
    {
     "name": "stdout",
     "output_type": "stream",
     "text": [
      "self.agent.erc20_portfolio: {'USDC': Decimal('50000'), 'WETH': Decimal('25'), 'WBTC': Decimal('1')}\n",
      "amount_of_dollars: 500.00000000000001040834085586084256647154688835144042968750000\n",
      "amount_of_WETH: 0.25000000000000000520417042793042128323577344417572021484375\n",
      "self.agent.erc20_portfolio: {'USDC': Decimal('49500'), 'WETH': Decimal('25.193502723132822214'), 'WBTC': Decimal('1.01371553')}\n",
      "amount_of_dollars: 500.00000000000001040834085586084256647154688835144042968750000\n",
      "amount_of_WETH: 0.25000000000000000520417042793042128323577344417572021484375\n"
     ]
    },
    {
     "name": "stderr",
     "output_type": "stream",
     "text": [
      "Running simulation::  28%|██▊       | 5/18 [00:00<00:00, 14.57it/s]"
     ]
    },
    {
     "name": "stdout",
     "output_type": "stream",
     "text": [
      "self.agent.erc20_portfolio: {'USDC': Decimal('49000'), 'WETH': Decimal('25.38701543303224118'), 'WBTC': Decimal('1.02743105')}\n",
      "amount_of_dollars: 500.00000000000001040834085586084256647154688835144042968750000\n",
      "amount_of_WETH: 0.25000000000000000520417042793042128323577344417572021484375\n",
      "self.agent.erc20_portfolio: {'USDC': Decimal('48500'), 'WETH': Decimal('25.580532135543499646'), 'WBTC': Decimal('1.04114657')}\n",
      "amount_of_dollars: 500.00000000000001040834085586084256647154688835144042968750000\n",
      "amount_of_WETH: 0.25000000000000000520417042793042128323577344417572021484375\n",
      "self.agent.erc20_portfolio: {'USDC': Decimal('48000'), 'WETH': Decimal('25.774046654362486152'), 'WBTC': Decimal('1.05486208')}\n",
      "amount_of_dollars: 500.00000000000001040834085586084256647154688835144042968750000\n",
      "amount_of_WETH: 0.25000000000000000520417042793042128323577344417572021484375\n",
      "self.agent.erc20_portfolio: {'USDC': Decimal('47500'), 'WETH': Decimal('25.967558989505328051'), 'WBTC': Decimal('1.06857758')}\n",
      "amount_of_dollars: 500.00000000000001040834085586084256647154688835144042968750000\n",
      "amount_of_WETH: 0.25000000000000000520417042793042128323577344417572021484375\n",
      "self.agent.erc20_portfolio: {'USDC': Decimal('47000'), 'WETH': Decimal('26.161266360002188887'), 'WBTC': Decimal('1.082293')}\n",
      "amount_of_dollars: 500.00000000000001040834085586084256647154688835144042968750000\n",
      "amount_of_WETH: 0.25000000000000000520417042793042128323577344417572021484375\n",
      "self.agent.erc20_portfolio: {'USDC': Decimal('46500'), 'WETH': Decimal('26.355445314022407778'), 'WBTC': Decimal('1.09600764')}\n",
      "amount_of_dollars: 500.00000000000001040834085586084256647154688835144042968750000\n",
      "amount_of_WETH: 0.25000000000000000520417042793042128323577344417572021484375\n"
     ]
    },
    {
     "name": "stderr",
     "output_type": "stream",
     "text": [
      "Running simulation::  61%|██████    | 11/18 [00:00<00:00, 21.39it/s]"
     ]
    },
    {
     "name": "stdout",
     "output_type": "stream",
     "text": [
      "self.agent.erc20_portfolio: {'USDC': Decimal('46000'), 'WETH': Decimal('26.549474171084846806'), 'WBTC': Decimal('1.10972227')}\n",
      "amount_of_dollars: 500.00000000000001040834085586084256647154688835144042968750000\n",
      "amount_of_WETH: 0.25000000000000000520417042793042128323577344417572021484375\n",
      "self.agent.erc20_portfolio: {'USDC': Decimal('45500'), 'WETH': Decimal('26.743500841161172812'), 'WBTC': Decimal('1.12343689')}\n",
      "amount_of_dollars: 500.00000000000001040834085586084256647154688835144042968750000\n",
      "amount_of_WETH: 0.25000000000000000520417042793042128323577344417572021484375\n",
      "self.agent.erc20_portfolio: {'USDC': Decimal('45000'), 'WETH': Decimal('26.937365906801294305'), 'WBTC': Decimal('1.13715151')}\n",
      "amount_of_dollars: 500.00000000000001040834085586084256647154688835144042968750000\n",
      "amount_of_WETH: 0.25000000000000000520417042793042128323577344417572021484375\n",
      "self.agent.erc20_portfolio: {'USDC': Decimal('44500'), 'WETH': Decimal('27.131228786665278492'), 'WBTC': Decimal('1.15084951')}\n",
      "amount_of_dollars: 500.00000000000001040834085586084256647154688835144042968750000\n",
      "amount_of_WETH: 0.25000000000000000520417042793042128323577344417572021484375\n",
      "self.agent.erc20_portfolio: {'USDC': Decimal('44000'), 'WETH': Decimal('27.324959864713139778'), 'WBTC': Decimal('1.1645475')}\n",
      "amount_of_dollars: 500.00000000000001040834085586084256647154688835144042968750000\n",
      "amount_of_WETH: 0.25000000000000000520417042793042128323577344417572021484375\n",
      "self.agent.erc20_portfolio: {'USDC': Decimal('43500'), 'WETH': Decimal('27.518700856960602121'), 'WBTC': Decimal('1.17824549')}\n",
      "amount_of_dollars: 500.00000000000001040834085586084256647154688835144042968750000\n",
      "amount_of_WETH: 0.25000000000000000520417042793042128323577344417572021484375\n"
     ]
    },
    {
     "name": "stderr",
     "output_type": "stream",
     "text": [
      "Running simulation:: 100%|██████████| 18/18 [00:00<00:00, 20.14it/s]\n",
      "WARNING:root:No timings have been recorded.\n"
     ]
    },
    {
     "name": "stdout",
     "output_type": "stream",
     "text": [
      "self.agent.erc20_portfolio: {'USDC': Decimal('43000'), 'WETH': Decimal('27.712206807072278833'), 'WBTC': Decimal('1.19194347')}\n",
      "amount_of_dollars: 500.00000000000001040834085586084256647154688835144042968750000\n",
      "amount_of_WETH: 0.25000000000000000520417042793042128323577344417572021484375\n",
      "self.agent.erc20_portfolio: {'USDC': Decimal('42500'), 'WETH': Decimal('27.90569455127408606'), 'WBTC': Decimal('1.20564144')}\n",
      "amount_of_dollars: 500.00000000000001040834085586084256647154688835144042968750000\n",
      "amount_of_WETH: 0.25000000000000000520417042793042128323577344417572021484375\n",
      "self.agent.erc20_portfolio: {'USDC': Decimal('42000'), 'WETH': Decimal('28.098582570552779743'), 'WBTC': Decimal('1.21933941')}\n",
      "amount_of_dollars: 500.00000000000001040834085586084256647154688835144042968750000\n",
      "amount_of_WETH: 0.25000000000000000520417042793042128323577344417572021484375\n",
      "self.agent.erc20_portfolio: {'USDC': Decimal('41500'), 'WETH': Decimal('28.291455151951699917'), 'WBTC': Decimal('1.23303737')}\n",
      "amount_of_dollars: 500.00000000000001040834085586084256647154688835144042968750000\n",
      "amount_of_WETH: 0.25000000000000000520417042793042128323577344417572021484375\n"
     ]
    }
   ],
   "source": [
    "# ASSUMPTIONS:\n",
    "# add these lines to your \"run.py\" file\n",
    "#\n",
    "# pools = [\"USDC/WETH-0.05\", \"WBTC/WETH-0.05\"]\n",
    "# \n",
    "# agent1 = UniswapV3PoolWealthAgent(\n",
    "#     initial_portfolio= {\"USDC\": Decimal(50_000), \"WETH\": Decimal(25),\"WBTC\": Decimal(1)},\n",
    "#     name=\"bitcoin_buyer\",\n",
    "#)\n",
    "#\n",
    "#\n",
    "\n",
    "\n",
    "\n",
    "\n",
    "\n",
    "import logging\n",
    "from datetime import datetime, timedelta\n",
    "from decimal import Decimal\n",
    "from typing import Any, Optional\n",
    "\n",
    "from policy import UniswapV3PoolWealthAgent\n",
    "from dateutil import parser as dateparser\n",
    "from policy import buy_bitcoins\n",
    "#from policies. import PassiveConcentratedLP\n",
    "\n",
    "from dojo.common.constants import Chain\n",
    "from dojo.environments import UniswapV3Env\n",
    "from dojo.runners import backtest_run\n",
    "\n",
    "\n",
    "\n",
    "\n",
    "    # SNIPPET 1 START\n",
    "pool0 = \"USDC/WETH-0.05\"\n",
    "#pool1 = \"USDC/WETH-0.3\"\n",
    "pool1 = \"WBTC/WETH-0.05\"\n",
    "#pool1 = \"USDC/WETH-0.3\"\n",
    "pools = [\"USDC/WETH-0.05\", \"WBTC/WETH-0.05\"]\n",
    "\n",
    "run_length=timedelta(hours=0.05)    \n",
    "start_time = dateparser.parse(\"2022-06-21 00:00:00 UTC\")\n",
    "end_time = start_time + run_length\n",
    "\n",
    "agent1 = UniswapV3PoolWealthAgent(\n",
    "     initial_portfolio= {\"USDC\": Decimal(50_000), \"WETH\": Decimal(25),\"WBTC\": Decimal(1)},\n",
    "     name=\"bitcoin_buyer\")\n",
    "\n",
    "\n",
    "  \n",
    "    # Simulation environment (Uniswap V3)\n",
    "env = UniswapV3Env(\n",
    "        chain=Chain.ETHEREUM,\n",
    "        date_range=(start_time, end_time),\n",
    "        agents=[agent1],\n",
    "        pools=pools,\n",
    "        backend_type=\"forked\",\n",
    "        market_impact=\"replay\",\n",
    "    )\n",
    "\n",
    "    # Policies \n",
    "    #mvag_policy = MovingAveragePolicy(\n",
    "    #   agent=agent1, pool=\"USDC/WETH-0.05\", short_window=25, long_window=100\n",
    "    #)\n",
    "\n",
    "dashboard_server_port=9999\n",
    "simulation_status_bar=True\n",
    "auto_close=True\n",
    "policy=buy_bitcoins(agent=agent1)\n",
    "\n",
    "backtest_run(\n",
    "        env,\n",
    "        [policy],\n",
    "        dashboard_server_port=dashboard_server_port,\n",
    "        auto_close=auto_close,\n",
    "        simulation_status_bar=simulation_status_bar,\n",
    "    )\n",
    "    # SNIPPET 1 END\n",
    "\n",
    "\n"
   ]
  },
  {
   "cell_type": "code",
   "execution_count": null,
   "metadata": {},
   "outputs": [],
   "source": []
  }
 ],
 "metadata": {
  "kernelspec": {
   "display_name": ".venv",
   "language": "python",
   "name": "python3"
  },
  "language_info": {
   "codemirror_mode": {
    "name": "ipython",
    "version": 3
   },
   "file_extension": ".py",
   "mimetype": "text/x-python",
   "name": "python",
   "nbconvert_exporter": "python",
   "pygments_lexer": "ipython3",
   "version": "3.12.7"
  }
 },
 "nbformat": 4,
 "nbformat_minor": 2
}
