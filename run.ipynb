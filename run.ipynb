{
 "cells": [
  {
   "cell_type": "code",
   "execution_count": null,
   "metadata": {},
   "outputs": [
    {
     "name": "stderr",
     "output_type": "stream",
     "text": [
      "/Users/johncosnett/compass_labs/policy/.venv/lib/python3.12/site-packages/joblib/memory.py:577: JobLibCollisionWarning: Cannot detect name collisions for function '_load_data_for_pools'\n",
      "  return self._cached_call(args, kwargs, shelving=False)[0]\n",
      "/var/folders/y7/zk_s47tx1432tj57pyn2vknh0000gn/T/ipykernel_23710/2652738376.py:71: DeprecationWarning: The default datetime adapter is deprecated as of Python 3.12; see the sqlite3 documentation for suggested replacement recipes\n",
      "  backtest_run(\n",
      "\n",
      "\n",
      "Running simulation::   0%|          | 0/18 [00:00<?, ?it/s]"
     ]
    },
    {
     "name": "stdout",
     "output_type": "stream",
     "text": [
      "amount_of_dollars: 50000\n",
      "amount_of_WETH: 25\n",
      "amount_of_dollars: 50000\n",
      "amount_of_WETH: 25\n"
     ]
    },
    {
     "name": "stderr",
     "output_type": "stream",
     "text": [
      "Running simulation::  56%|█████▌    | 10/18 [00:00<00:00, 35.12it/s]"
     ]
    },
    {
     "name": "stdout",
     "output_type": "stream",
     "text": [
      "amount_of_dollars: 50000\n",
      "amount_of_WETH: 25\n",
      "amount_of_dollars: 50000\n",
      "amount_of_WETH: 25\n",
      "amount_of_dollars: 50000\n",
      "amount_of_WETH: 25\n",
      "amount_of_dollars: 50000\n",
      "amount_of_WETH: 25\n",
      "amount_of_dollars: 50000\n",
      "amount_of_WETH: 25\n",
      "amount_of_dollars: 50000\n",
      "amount_of_WETH: 25\n",
      "amount_of_dollars: 50000\n",
      "amount_of_WETH: 25\n",
      "amount_of_dollars: 50000\n",
      "amount_of_WETH: 25\n",
      "amount_of_dollars: 50000\n",
      "amount_of_WETH: 25\n",
      "amount_of_dollars: 50000\n",
      "amount_of_WETH: 25\n",
      "amount_of_dollars: 50000\n",
      "amount_of_WETH: 25\n",
      "amount_of_dollars: 50000\n",
      "amount_of_WETH: 25\n",
      "amount_of_dollars: 50000\n",
      "amount_of_WETH: 25\n",
      "amount_of_dollars: 50000\n",
      "amount_of_WETH: 25\n"
     ]
    },
    {
     "name": "stderr",
     "output_type": "stream",
     "text": [
      "Running simulation:: 100%|██████████| 18/18 [00:00<00:00, 37.26it/s]\n",
      "WARNING:root:No timings have been recorded.\n"
     ]
    },
    {
     "name": "stdout",
     "output_type": "stream",
     "text": [
      "amount_of_dollars: 50000\n",
      "amount_of_WETH: 25\n",
      "amount_of_dollars: 50000\n",
      "amount_of_WETH: 25\n",
      "...Press any key to exit.\n"
     ]
    }
   ],
   "source": [
    "# ASSUMPTIONS:\n",
    "# add these lines to your \"run.py\" file\n",
    "#\n",
    "# pools = [\"USDC/WETH-0.05\", \"WBTC/WETH-0.05\"]\n",
    "# \n",
    "# agent1 = UniswapV3PoolWealthAgent(\n",
    "#     initial_portfolio= {\"USDC\": Decimal(50_000), \"WETH\": Decimal(25),\"WBTC\": Decimal(1)},\n",
    "#     name=\"bitcoin_buyer\",\n",
    "#)\n",
    "#\n",
    "#\n",
    "\n",
    "\n",
    "\n",
    "\n",
    "\n",
    "import logging\n",
    "from datetime import datetime, timedelta\n",
    "from decimal import Decimal\n",
    "from typing import Any, Optional\n",
    "\n",
    "from policy import UniswapV3PoolWealthAgent\n",
    "from dateutil import parser as dateparser\n",
    "from policy import buy_bitcoins\n",
    "#from policies. import PassiveConcentratedLP\n",
    "\n",
    "from dojo.common.constants import Chain\n",
    "from dojo.environments import UniswapV3Env\n",
    "from dojo.runners import backtest_run\n",
    "\n",
    "\n",
    "\n",
    "\n",
    "    # SNIPPET 1 START\n",
    "pool0 = \"USDC/WETH-0.05\"\n",
    "#pool1 = \"USDC/WETH-0.3\"\n",
    "pool1 = \"WBTC/WETH-0.05\"\n",
    "#pool1 = \"USDC/WETH-0.3\"\n",
    "pools = [\"USDC/WETH-0.05\", \"WBTC/WETH-0.05\"]\n",
    "\n",
    "run_length=timedelta(hours=0.05)    \n",
    "start_time = dateparser.parse(\"2022-06-21 00:00:00 UTC\")\n",
    "end_time = start_time + run_length\n",
    "\n",
    "agent1 = UniswapV3PoolWealthAgent(\n",
    "     initial_portfolio= {\"USDC\": Decimal(50_000), \"WETH\": Decimal(25),\"WBTC\": Decimal(1)},\n",
    "     name=\"bitcoin_buyer\")\n",
    "\n",
    "\n",
    "  \n",
    "    # Simulation environment (Uniswap V3)\n",
    "env = UniswapV3Env(\n",
    "        chain=Chain.ETHEREUM,\n",
    "        date_range=(start_time, end_time),\n",
    "        agents=[agent1],\n",
    "        pools=pools,\n",
    "        backend_type=\"forked\",\n",
    "        market_impact=\"replay\",\n",
    "    )\n",
    "\n",
    "    # Policies \n",
    "    #mvag_policy = MovingAveragePolicy(\n",
    "    #   agent=agent1, pool=\"USDC/WETH-0.05\", short_window=25, long_window=100\n",
    "    #)\n",
    "\n",
    "dashboard_server_port=9999\n",
    "simulation_status_bar=True\n",
    "auto_close=True\n",
    "policy=buy_bitcoins(agent=agent1)\n",
    "\n",
    "backtest_run(\n",
    "        env,\n",
    "        [policy],\n",
    "        dashboard_server_port=dashboard_server_port,\n",
    "        auto_close=auto_close,\n",
    "        simulation_status_bar=simulation_status_bar,\n",
    "    )\n",
    "    # SNIPPET 1 END\n",
    "\n",
    "\n"
   ]
  }
 ],
 "metadata": {
  "kernelspec": {
   "display_name": ".venv",
   "language": "python",
   "name": "python3"
  },
  "language_info": {
   "codemirror_mode": {
    "name": "ipython",
    "version": 3
   },
   "file_extension": ".py",
   "mimetype": "text/x-python",
   "name": "python",
   "nbconvert_exporter": "python",
   "pygments_lexer": "ipython3",
   "version": "3.12.7"
  }
 },
 "nbformat": 4,
 "nbformat_minor": 2
}
